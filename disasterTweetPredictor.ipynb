{
 "cells": [
  {
   "cell_type": "markdown",
   "id": "9019e393-71e9-4f8f-b60a-ea1b8d0776e9",
   "metadata": {},
   "source": [
    "### Disaster Tweet Predictor"
   ]
  },
  {
   "cell_type": "code",
   "execution_count": null,
   "id": "06960b7a-8769-495b-9347-767602ce01b7",
   "metadata": {},
   "outputs": [],
   "source": []
  }
 ],
 "metadata": {
  "kernelspec": {
   "display_name": "Python 3 (ipykernel)",
   "language": "python",
   "name": "python3"
  },
  "language_info": {
   "codemirror_mode": {
    "name": "ipython",
    "version": 3
   },
   "file_extension": ".py",
   "mimetype": "text/x-python",
   "name": "python",
   "nbconvert_exporter": "python",
   "pygments_lexer": "ipython3",
   "version": "3.11.5"
  }
 },
 "nbformat": 4,
 "nbformat_minor": 5
}
